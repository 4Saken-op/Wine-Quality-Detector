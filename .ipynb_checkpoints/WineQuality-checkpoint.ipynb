{
 "cells": [
  {
   "cell_type": "markdown",
   "metadata": {
    "id": "eroY5nKeB5s_"
   },
   "source": [
    "## IMPORTING THE LIBRARIES"
   ]
  },
  {
   "cell_type": "code",
   "execution_count": null,
   "metadata": {
    "id": "rpot3-uYB4Tc"
   },
   "outputs": [],
   "source": [
    "import numpy as np\n",
    "import matplotlib.pyplot as plt\n",
    "import pandas as pd\n",
    "import seaborn as sb"
   ]
  },
  {
   "cell_type": "markdown",
   "metadata": {
    "id": "dblkODQhCIAD"
   },
   "source": [
    "## IMPORTING AND ANALYSIS THE DATASET"
   ]
  },
  {
   "cell_type": "code",
   "execution_count": null,
   "metadata": {
    "id": "Vio32CeuCTKn"
   },
   "outputs": [],
   "source": [
    "dataset = pd.read_csv('WineQT.csv')"
   ]
  },
  {
   "cell_type": "code",
   "execution_count": null,
   "metadata": {
    "id": "pPq5y2l_PRTS"
   },
   "outputs": [],
   "source": [
    "# print(dataset.head())"
   ]
  },
  {
   "cell_type": "code",
   "execution_count": null,
   "metadata": {
    "id": "Ey6PEecwPBCG"
   },
   "outputs": [],
   "source": [
    "# print(dataset.info())"
   ]
  },
  {
   "cell_type": "code",
   "execution_count": null,
   "metadata": {
    "id": "Gqu5IkMwPCz7"
   },
   "outputs": [],
   "source": [
    "# dataset.describe().T"
   ]
  },
  {
   "cell_type": "code",
   "execution_count": null,
   "metadata": {
    "id": "F6hHeEGSPEka"
   },
   "outputs": [],
   "source": [
    "# dataset.isnull().sum()                                  #early info of the dataset"
   ]
  },
  {
   "cell_type": "code",
   "execution_count": null,
   "metadata": {
    "id": "4vpwgGv8PGye"
   },
   "outputs": [],
   "source": [
    "# dataset.hist(bins=20, figsize=(10, 10))                 #count of records for intervals of value\n",
    "# plt.show()"
   ]
  },
  {
   "cell_type": "code",
   "execution_count": null,
   "metadata": {
    "id": "R7N-nCP8PNaE"
   },
   "outputs": [],
   "source": [
    "# plt.bar(dataset['quality'], dataset['alcohol'])         #to count no of records for each quality\n",
    "# plt.xlabel('quality')\n",
    "# plt.ylabel('alcohol')\n",
    "# plt.show()"
   ]
  },
  {
   "cell_type": "markdown",
   "metadata": {
    "id": "wLSsF_Q2DA4s"
   },
   "source": [
    "## DATASET MODIFICATION"
   ]
  },
  {
   "cell_type": "code",
   "execution_count": null,
   "metadata": {
    "id": "QGJ-b8g2D2lH"
   },
   "outputs": [],
   "source": [
    "# plt.figure(figsize=(12, 12))\n",
    "# sb.heatmap(dataset.corr() > 0.7, annot=True, cbar=False)      #to check if any columns are related\n",
    "# plt.show()\n",
    "# dataset = dataset.drop('total sulfur dioxide', axis=1)        #dropping column that is to bbe deleted"
   ]
  },
  {
   "cell_type": "code",
   "execution_count": null,
   "metadata": {
    "id": "EPJYreZbPASJ"
   },
   "outputs": [],
   "source": [
    "dataset['best quality'] = [1 if x > 5 else 0 for x in dataset.quality]\n",
    "#print(dataset)"
   ]
  },
  {
   "cell_type": "code",
   "execution_count": null,
   "metadata": {
    "id": "8cxnVTxbPxbI"
   },
   "outputs": [],
   "source": [
    "# dataset.replace({'white': 1, 'red': 0}, inplace=True)         #LabelEncoding\n",
    "# print(dataset)"
   ]
  },
  {
   "cell_type": "markdown",
   "metadata": {
    "id": "RVggWdnpEy0S"
   },
   "source": [
    "## SPLITTING TRAINING SET AND TEST SET"
   ]
  },
  {
   "cell_type": "code",
   "execution_count": null,
   "metadata": {
    "id": "0dMxnvEPQwQo"
   },
   "outputs": [],
   "source": [
    "features = dataset.drop(['quality', 'best quality', 'Id'], axis=1)\n",
    "target = dataset['best quality']\n",
    "\n",
    "# print(features)\n",
    "# print(target)"
   ]
  },
  {
   "cell_type": "code",
   "execution_count": null,
   "metadata": {
    "id": "QUYxLKbUE3Vq"
   },
   "outputs": [],
   "source": [
    "from sklearn.model_selection import train_test_split\n",
    "X_train, X_test, y_train, y_test = train_test_split(features, target, test_size = 0.2, random_state = 1)"
   ]
  },
  {
   "cell_type": "code",
   "execution_count": null,
   "metadata": {
    "id": "lALGCrUxRf-w"
   },
   "outputs": [],
   "source": [
    "print(X_train.shape)\n",
    "print(y_train.shape)\n",
    "print(X_test.shape)\n",
    "print(y_test.shape)"
   ]
  },
  {
   "cell_type": "code",
   "execution_count": null,
   "metadata": {
    "id": "TPOPEuvBErSS"
   },
   "outputs": [],
   "source": [
    "from sklearn.preprocessing import StandardScaler\n",
    "sc = StandardScaler()\n",
    "X_train = sc.fit_transform(X_train)\n",
    "X_test = sc.transform(X_test)"
   ]
  },
  {
   "cell_type": "code",
   "execution_count": null,
   "metadata": {
    "id": "vf5Hg92OdQA1"
   },
   "outputs": [],
   "source": [
    "# from sklearn.preprocessing import MinMaxScaler\n",
    "# sc = MinMaxScaler()\n",
    "# X_train = sc.fit_transform(X_train)\n",
    "# X_test = sc.transform(X_test)"
   ]
  },
  {
   "cell_type": "markdown",
   "metadata": {
    "id": "hd2pZioiFtoy"
   },
   "source": [
    "# TRAINING MODEL"
   ]
  },
  {
   "cell_type": "markdown",
   "metadata": {
    "id": "ZB4bGQVra2gd"
   },
   "source": [
    "### Linear Regression"
   ]
  },
  {
   "cell_type": "code",
   "execution_count": null,
   "metadata": {
    "id": "DPaBPZFOaxCN"
   },
   "outputs": [],
   "source": [
    "# from sklearn.linear_model import LogisticRegression\n",
    "# classifier = LogisticRegression(random_state = 0)\n",
    "# classifier.fit(X_train, y_train)"
   ]
  },
  {
   "cell_type": "markdown",
   "metadata": {
    "id": "UEBiphd3a73Y"
   },
   "source": [
    "### KNN Nearest Neighbours"
   ]
  },
  {
   "cell_type": "code",
   "execution_count": null,
   "metadata": {
    "id": "_79XyCCHan_3"
   },
   "outputs": [],
   "source": [
    "# from sklearn.neighbors import KNeighborsClassifier\n",
    "# classifier = KNeighborsClassifier(n_neighbors = 5, metric = 'minkowski', p = 2)\n",
    "# classifier.fit(X_train, y_train)"
   ]
  },
  {
   "cell_type": "markdown",
   "metadata": {
    "id": "RkwfyOtfbAm4"
   },
   "source": [
    "### SVM"
   ]
  },
  {
   "cell_type": "code",
   "execution_count": null,
   "metadata": {
    "id": "AzPJL5NcalK0"
   },
   "outputs": [],
   "source": [
    "# from sklearn.svm import SVC\n",
    "# classifier = SVC(kernel = 'linear', random_state = 0)\n",
    "# classifier.fit(X_train, y_train)"
   ]
  },
  {
   "cell_type": "markdown",
   "metadata": {
    "id": "kFmZSDWQbDJI"
   },
   "source": [
    "### Kernel SVM"
   ]
  },
  {
   "cell_type": "code",
   "execution_count": null,
   "metadata": {
    "id": "7Rm54Nl7F29Y"
   },
   "outputs": [],
   "source": [
    "# from sklearn.svm import SVC\n",
    "# classifier = SVC(kernel = 'rbf', random_state = 0)\n",
    "# classifier.fit(X_train, y_train)"
   ]
  },
  {
   "cell_type": "markdown",
   "metadata": {
    "id": "wEzWCqNqbiKe"
   },
   "source": [
    "### Naive Bayes"
   ]
  },
  {
   "cell_type": "code",
   "execution_count": null,
   "metadata": {
    "id": "uXy5GZQFbk1I"
   },
   "outputs": [],
   "source": [
    "# from sklearn.naive_bayes import GaussianNB\n",
    "# classifier = GaussianNB()\n",
    "# classifier.fit(X_train, y_train)"
   ]
  },
  {
   "cell_type": "markdown",
   "metadata": {
    "id": "rgYf8V0ycIkc"
   },
   "source": [
    "### Decision Tree"
   ]
  },
  {
   "cell_type": "code",
   "execution_count": null,
   "metadata": {
    "id": "Lp69XWPwcMq2"
   },
   "outputs": [],
   "source": [
    "# from sklearn.tree import DecisionTreeClassifier\n",
    "# classifier = DecisionTreeClassifier(criterion = 'entropy', random_state = 0)\n",
    "# classifier.fit(X_train, y_train)"
   ]
  },
  {
   "cell_type": "markdown",
   "metadata": {
    "id": "4g1OskTOco5c"
   },
   "source": [
    "### Random Forest"
   ]
  },
  {
   "cell_type": "code",
   "execution_count": null,
   "metadata": {
    "id": "Oxx1xjIccsah"
   },
   "outputs": [],
   "source": [
    "# from sklearn.ensemble import RandomForestClassifier\n",
    "# classifier = RandomForestClassifier(n_estimators = 10, criterion = 'entropy', random_state = 0)\n",
    "# classifier.fit(X_train, y_train)"
   ]
  },
  {
   "cell_type": "markdown",
   "metadata": {
    "id": "8OF6_84GdWiq"
   },
   "source": [
    "### XGBOOST"
   ]
  },
  {
   "cell_type": "code",
   "execution_count": null,
   "metadata": {
    "id": "21mawDlbdYq3"
   },
   "outputs": [],
   "source": [
    "from xgboost import XGBClassifier\n",
    "classifier = XGBClassifier()\n",
    "classifier.fit(X_train, y_train)"
   ]
  },
  {
   "cell_type": "markdown",
   "metadata": {
    "id": "JOaHKyWbGBYQ"
   },
   "source": [
    "## PREDICTING TEST SET"
   ]
  },
  {
   "cell_type": "code",
   "execution_count": null,
   "metadata": {
    "id": "xKjEoWpeGU_Y"
   },
   "outputs": [],
   "source": [
    "from sklearn import metrics\n",
    "from sklearn.metrics import confusion_matrix, accuracy_score\n",
    "\n",
    "y_pred = classifier.predict(X_test)\n",
    "# print(np.concatenate((y_pred.reshape(len(y_pred),1), y_test.reshape(len(y_test),1)),1))\n",
    "print('Training Accuracy : ', metrics.roc_auc_score(y_train, classifier.predict(X_train)))\n",
    "print('Validation Accuracy : ', metrics.roc_auc_score(y_test, classifier.predict(X_test)))"
   ]
  },
  {
   "cell_type": "code",
   "execution_count": null,
   "metadata": {
    "id": "6BWUVa4XGcVh"
   },
   "outputs": [],
   "source": [
    "cm = confusion_matrix(y_test, y_pred)\n",
    "print(cm)\n",
    "print(\"Correct: \", cm[0][0] + cm[1][1])\n",
    "print(\"Incorrect: \", cm[0][1] + cm[1][0])"
   ]
  },
  {
   "cell_type": "markdown",
   "metadata": {
    "id": "U-eGh0nuyabx"
   },
   "source": [
    "## Applying k-Fold Cross Validation"
   ]
  },
  {
   "cell_type": "code",
   "execution_count": null,
   "metadata": {
    "id": "P1gUQkreWJ1J"
   },
   "outputs": [],
   "source": [
    "from sklearn.model_selection import cross_val_score\n",
    "accuracies = cross_val_score(estimator = classifier, X = X_train, y = y_train, cv = 10)\n",
    "print(\"Max accuracy: {:.2f} %\".format(max(accuracies)*100))\n",
    "print(\"Max accuracy: {:.2f} %\".format(min(accuracies)*100))\n",
    "print(\"Accuracy: {:.2f} %\".format(accuracies.mean()*100))\n",
    "print(\"Standard Deviation: {:.2f} %\".format(accuracies.std()*100))"
   ]
  },
  {
   "cell_type": "markdown",
   "metadata": {
    "id": "OfdKjXJNGsHC"
   },
   "source": [
    "## PREDICTING SINGLE VALUE"
   ]
  },
  {
   "cell_type": "code",
   "execution_count": null,
   "metadata": {
    "id": "dqhEW6g7UdE5"
   },
   "outputs": [],
   "source": [
    "# gender = int(input(\"Male(1) / Female(0): \"))\n",
    "# age = int(input(\"Enter age: \"))\n",
    "# salary = int(input(\"Enter salary: \"))\n",
    "\n",
    "# print(classifier.predict(sc.transform([[gender,age,salary]])))"
   ]
  },
  {
   "cell_type": "code",
   "execution_count": null,
   "metadata": {
    "id": "su_20q5nfjPI"
   },
   "outputs": [],
   "source": [
    "print(metrics.classification_report(y_test,classifier.predict(X_test)))"
   ]
  },
  {
   "cell_type": "markdown",
   "metadata": {
    "id": "x1VxfbYDkGIc"
   },
   "source": [
    "## REPORT"
   ]
  },
  {
   "cell_type": "markdown",
   "metadata": {
    "id": "sSNAFZkAVg7W"
   },
   "source": [
    "### Logistic Regression:  75.38 %"
   ]
  },
  {
   "cell_type": "markdown",
   "metadata": {
    "id": "JIwxFbjaVoSX"
   },
   "source": [
    "### KNN Nearest Neighbours: 70.68 %"
   ]
  },
  {
   "cell_type": "markdown",
   "metadata": {
    "id": "6qFTByBhXu9d"
   },
   "source": [
    "### SVM: 74.51 %"
   ]
  },
  {
   "cell_type": "markdown",
   "metadata": {
    "id": "zoob48-TaZU0"
   },
   "source": [
    "### KERNEL SVM: 75.71 %\n",
    "\n",
    "\n"
   ]
  },
  {
   "cell_type": "markdown",
   "metadata": {
    "id": "DhP1jm_2b7j7"
   },
   "source": [
    "### Naive Bayes:  73.41 %"
   ]
  },
  {
   "cell_type": "markdown",
   "metadata": {
    "id": "5pWL7D3fcC0i"
   },
   "source": [
    "### Decision Trees: 70.67 %"
   ]
  },
  {
   "cell_type": "markdown",
   "metadata": {
    "id": "6bIt3cYScisb"
   },
   "source": [
    "### Random Forest: 76.92 %"
   ]
  },
  {
   "cell_type": "markdown",
   "metadata": {
    "id": "CBfbT78KdOpT"
   },
   "source": [
    "### XGBOOST: 77.46 %"
   ]
  },
  {
   "cell_type": "markdown",
   "metadata": {
    "id": "A6DWuh1KnMy9"
   },
   "source": [
    "# OPTIMAL MODELS:\n"
   ]
  },
  {
   "cell_type": "markdown",
   "metadata": {
    "id": "phWX5lMbxqfb"
   },
   "source": [
    "### XGBOOST"
   ]
  },
  {
   "cell_type": "markdown",
   "metadata": {
    "id": "8hrJ47uuxtgb"
   },
   "source": [
    "### Random Forest"
   ]
  }
 ],
 "metadata": {
  "colab": {
   "provenance": []
  },
  "kernelspec": {
   "display_name": "Python 3 (ipykernel)",
   "language": "python",
   "name": "python3"
  },
  "language_info": {
   "codemirror_mode": {
    "name": "ipython",
    "version": 3
   },
   "file_extension": ".py",
   "mimetype": "text/x-python",
   "name": "python",
   "nbconvert_exporter": "python",
   "pygments_lexer": "ipython3",
   "version": "3.11.5"
  }
 },
 "nbformat": 4,
 "nbformat_minor": 1
}
